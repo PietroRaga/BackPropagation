{
 "cells": [
  {
   "cell_type": "code",
   "execution_count": 172,
   "id": "198cd538",
   "metadata": {},
   "outputs": [],
   "source": [
    "import pandas as pd\n",
    "import numpy as np\n",
    "import matplotlib.pyplot as plt\n",
    "import warnings \n",
    "warnings.filterwarnings('ignore') "
   ]
  },
  {
   "cell_type": "code",
   "execution_count": 174,
   "id": "8609421b",
   "metadata": {},
   "outputs": [],
   "source": [
    "#Questa funzione inizializza il network e la sua struttura. Tutti i valori di W e b sono assgnati in maniera random.\n",
    "#la rete ha 2 strati fully connected con 4 e 5 neuroni rispettivamente. Il numero di neuroni può essere aggiornato cambiando i\n",
    "#parametri n1 e n2. Il numero di layer è invece fisso\n",
    "def reset_network (n1 = 4, n2 = 5, random=np.random) :\n",
    "    global W1, W2, W3, b1, b2, b3\n",
    "    W1 = random.randn(n1, 1) / 2\n",
    "    W2 = random.randn(n2, n1) / 2\n",
    "    W3 = random.randn(1, n2) / 2\n",
    "    b1 = random.randn(n1, 1) / 2\n",
    "    b2 = random.randn(n2, 1) / 2\n",
    "    b3 = random.randn(1, 1) / 2\n",
    "\n",
    "#Questa funzione si occupa della parte feed forward. Restituisce le somme pesate (z) e le activations (a) per ogni layer\n",
    "def network_function(a0) :\n",
    "    z1 = W1 @ a0 + b1\n",
    "    a1 = sigma(z1)\n",
    "    z2 = W2 @ a1 + b2\n",
    "    a2 = sigma(z2)\n",
    "    z3 = W3 @ a2 + b3\n",
    "    a3 = z3\n",
    "    return a0, z1, a1, z2, a2, z3, a3"
   ]
  },
  {
   "cell_type": "code",
   "execution_count": 176,
   "id": "bb405c9c",
   "metadata": {},
   "outputs": [],
   "source": [
    "#activation function and its derivative\n",
    "def sigma(z):\n",
    "    return 1 / (1 + np.exp(-z))\n",
    "\n",
    "\n",
    "def d_sigma(z):\n",
    "    return np.cosh(z/2)**(-2) / 4"
   ]
  },
  {
   "cell_type": "code",
   "execution_count": 180,
   "id": "5af8fdad",
   "metadata": {},
   "outputs": [],
   "source": [
    "def J_W3 (x, y) :\n",
    "    a0, z1, a1, z2, a2, z3, a3 = network_function(x)\n",
    "    J = 2 * (a3 - y)\n",
    "    J = J @ a2.T / x.size\n",
    "    return J\n",
    "\n",
    "def J_b3 (x, y) :\n",
    "    a0, z1, a1, z2, a2, z3, a3 = network_function(x)\n",
    "    J =2 * (a3 - y)\n",
    "    J = np.sum(J, axis=1, keepdims=True) / x.size\n",
    "    return J"
   ]
  },
  {
   "cell_type": "code",
   "execution_count": 181,
   "id": "7911dc86",
   "metadata": {},
   "outputs": [],
   "source": [
    "def J_W2 (x, y) :\n",
    "    a0, z1, a1, z2, a2, z3, a3 = network_function(x)    \n",
    "    J = 2 * (a3 - y)\n",
    "    J = (J.T @ W3).T\n",
    "    J = J * d_sigma(z2)\n",
    "    J = J @ a1.T / x.size\n",
    "    return J\n",
    "\n",
    "def J_b2 (x, y) :\n",
    "    a0, z1, a1, z2, a2, z3, a3 = network_function(x)\n",
    "    J = 2 * (a3 - y)\n",
    "    J = (J.T @ W3).T\n",
    "    J = J * d_sigma(z2)\n",
    "    J = np.sum(J, axis=1, keepdims=True) / x.size\n",
    "    return J"
   ]
  },
  {
   "cell_type": "code",
   "execution_count": 182,
   "id": "d8a3cb79",
   "metadata": {},
   "outputs": [],
   "source": [
    "def J_W1 (x, y) :\n",
    "    a0, z1, a1, z2, a2, z3, a3 = network_function(x)\n",
    "    J = 2 * (a3 - y)\n",
    "    J = (J.T @ W3).T\n",
    "    J = J * d_sigma(z2)\n",
    "    J = (J.T @ W2).T\n",
    "    J = J * d_sigma(z1)\n",
    "    J = J @ a0.T / x.size\n",
    "    return J\n",
    "\n",
    "def J_b1 (x, y) :\n",
    "    a0, z1, a1, z2, a2, z3, a3 = network_function(x)\n",
    "    J = 2 * (a3 - y)\n",
    "    J = (J.T @ W3).T\n",
    "    J = J * d_sigma(z2)\n",
    "    J = (J.T @ W2).T\n",
    "    J = J * d_sigma(z1)\n",
    "    J = np.sum(J, axis=1, keepdims=True) / x.size\n",
    "    return J"
   ]
  },
  {
   "cell_type": "code",
   "execution_count": 183,
   "id": "1b3cc7ce",
   "metadata": {},
   "outputs": [],
   "source": [
    "def training_network (x, y, iterations=10000, rate=0.05, noise=1) :\n",
    "    global W1, W2, W3, b1, b2, b3\n",
    "        \n",
    "    while iterations>=0 :\n",
    "        j_W1 = J_W1(x, y) * (1 + np.random.randn() * noise)\n",
    "        j_W2 = J_W2(x, y) * (1 + np.random.randn() * noise)\n",
    "        j_W3 = J_W3(x, y) * (1 + np.random.randn() * noise)\n",
    "        j_b1 = J_b1(x, y) * (1 + np.random.randn() * noise)\n",
    "        j_b2 = J_b2(x, y) * (1 + np.random.randn() * noise)\n",
    "        j_b3 = J_b3(x, y) * (1 + np.random.randn() * noise)\n",
    "\n",
    "        W1 = W1 - j_W1 * rate\n",
    "        W2 = W2 - j_W2 * rate\n",
    "        W3 = W3 - j_W3 * rate\n",
    "        b1 = b1 - j_b1 * rate\n",
    "        b2 = b2 - j_b2 * rate\n",
    "        b3 = b3 - j_b3 * rate\n",
    "\n",
    "        iterations -= 1\n",
    "        \n",
    "    return network_function(x)[-1]\n"
   ]
  }
 ],
 "metadata": {
  "kernelspec": {
   "display_name": "Python 3 (ipykernel)",
   "language": "python",
   "name": "python3"
  },
  "language_info": {
   "codemirror_mode": {
    "name": "ipython",
    "version": 3
   },
   "file_extension": ".py",
   "mimetype": "text/x-python",
   "name": "python",
   "nbconvert_exporter": "python",
   "pygments_lexer": "ipython3",
   "version": "3.10.10"
  }
 },
 "nbformat": 4,
 "nbformat_minor": 5
}
